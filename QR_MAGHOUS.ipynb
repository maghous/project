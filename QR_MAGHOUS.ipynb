{
 "cells": [
  {
   "cell_type": "markdown",
   "id": "6f1f6452-47b8-4981-b4f7-333bcc752635",
   "metadata": {},
   "source": [
    "<h1><center> Factorisation QR </center></h1>"
   ]
  },
  {
   "cell_type": "markdown",
   "id": "0500b710-c3b2-42d3-b3a6-baace51a8854",
   "metadata": {},
   "source": [
    "Soit $A \\in \\mathcal{M}_n(\\mathbb{R})$, une factorisation QR de cette matrice consiste à déterminer : \\medskip\n",
    "<ul>\n",
    "    <li>une matrice $Q\\in \\mathcal{M}_n(\\mathbb{R})$ orthogonale </li>\n",
    "    <li>une matrice $R\\in \\mathcal{M}_n(\\mathbb{R})$ trinagulaire supérieure </li>\n",
    "</ul>\n",
    "telles que $A=QR$. Une telle factorisation existe toujours, et est unique lorsque $A$ est inversible\\footnote{Pour une preuve complète, voir P.G. Ciarlet \"Introduction à l'analyse numérique et à l'optimisation\"}. Dans le cas inversible, la factorisation QR permet une résolution rapide des systèmes du type $AX=B$ en : \n",
    "<ul>\n",
    "    <li>résolvant $QY=B$, dont la solution est trivialement $Y= ~^t  QB$ </li>\n",
    "    <li>résolvant $RX=Y$, à l'aide de l'algorithme de remontée pour les systèmes triangulaires vu au dernier T.P. </li>\n",
    "</ul>\n",
    "Le but de ce T.P. est d'étudier des algorithmes permettant de calculer la factorisation $QR$ d'une matrice $A$ donnée.\n"
   ]
  },
  {
   "cell_type": "markdown",
   "id": "2b0e6b17-c682-44c1-9b6e-3bf2d34be7dc",
   "metadata": {},
   "source": [
    "<h2> Méthode de Gram-Schmidt </h2>\n",
    "<p>Une première méthode pour calculer la factorisation QR d'une matrice consiste à effectuer une orthogonalisation de Gram-Schmidt sur les colonnes de cette dernière. Considérons $A=(v_1,v_2, ... , v_n)$ où les $(v_i)_{i=1,..n}$ sont des vecteurs colonne. Le procédé de Gram-Schmidt permet de transformer une famille $\\{v_1,v_2,...,v_n \\}$ en une famille $\\{ e_1, e_2, ..., e_n \\}$ orthonormée : </p>\n",
    "\\begin{align*}\n",
    "&u_1=v_1 &e_1=\\dfrac{u_1}{|u_1|} \\\\\n",
    "&u_2=v_2 - <e_1,v_2>e_1 &e_2=\\dfrac{u_2}{|u_2|} \\\\\n",
    "&u_3=v_3 - <e_1,v_3>e_1 - <e_2,v_3>e_2 &e_3=\\dfrac{u_3}{|u_3|} \\\\\n",
    "& \\vdots & \\\\\n",
    "&u_n = v_n - \\sum_{i=1}^{n-1} <e_i,v_n> e_i & e_n=\\dfrac{u_n}{|u_n|}  \\\\\n",
    "\\end{align*}\n",
    "<p>Il alors est possible d'exprimer les colonnes de $A$ directement en fonction des $(e_i)_{i=1..n}$  (on remarque que : $u_i \\cdot e_i = |u_i|= v_i \\cdot e_i$): </p>\n",
    "\\begin{align*}\n",
    "&v_1=<e_1,v_1> e_1  \\\\\n",
    "&v_2=<e_2,v_2> e_2 + <e_1,v_2>e_1  \\\\\n",
    "&v_3=<e_3,v_3> e_3 + <e_1,v_3>e_1 - <e_2,v_3>e_2  \\\\\n",
    "& \\vdots & \\\\\n",
    "&v_n = <e_n,v_n> + \\sum_{i=1}^{n-1} <e_i,v_n> e_i  \n",
    "\\end{align*}\n",
    "<p>En ré-écrivant ceci sous forme matricielle, on obtient: </p>\n",
    "\\begin{equation*}\n",
    "A=\\underbrace{\\begin{pmatrix} e_1 & e_2 & e_3 & ... & e_n \\end{pmatrix}}_Q \\underbrace{\\begin{pmatrix} <e_1,v_1> & <e_1,v_2> & <e_1,v_3> & ... & <e_1,v_n> \\\\ \n",
    "0 & <e_2,v_2> & <e_2,v_3> & ... & <e_2,v_n> \\\\\n",
    "0 & 0 & <e_3,v_3> & ... & <e_3,v_n> \\\\\n",
    "\\vdots & \\vdots& \\vdots & \\ddots & \\vdots\\\\\n",
    "0 & 0 & 0 & ... & <e_n,v_n> \\end{pmatrix}}_R\n",
    "\\end{equation*}\n"
   ]
  },
  {
   "cell_type": "markdown",
   "id": "eeb43e79-4ba0-49e6-b5dc-081cf271161e",
   "metadata": {},
   "source": [
    "1- Ecrire une fonction python <i>Q=GramSchmidt(A)</i> réalisant l'orthogonalisation de Gram-Schmidt. "
   ]
  },
  {
   "cell_type": "code",
   "execution_count": 277,
   "id": "5ae83a85-03b5-447a-a68b-063cda459df7",
   "metadata": {},
   "outputs": [],
   "source": [
    "import numpy as np\n",
    "#code\n",
    "def GramShmidt(A):# A contient en colonnes(v_1,v_2.....v_n)\n",
    "    (n,m)=A.shape\n",
    "    Q=np.zeros((n,m))#Q contient e, colonnes (e_1,,,,e_n)\n",
    "    #Q[:,0]=A[:,0]/np.linalg.norm(A[:,0])\n",
    "    for i in  range(n):\n",
    "        ti=A[:,i].copy()\n",
    "        vi=A[:,i].copy()\n",
    "        for j in range(i):\n",
    "            ej=Q[:,j]\n",
    "            ti=ti-np.dot(vi,ej)*ej\n",
    "        ti=ti/np.linalg.norm(ti)\n",
    "        Q[:,i]=ti\n",
    "    return Q\n",
    "            "
   ]
  },
  {
   "cell_type": "code",
   "execution_count": 278,
   "id": "50b8eca1",
   "metadata": {},
   "outputs": [
    {
     "data": {
      "text/plain": [
       "array([[ 1.00000000e+00, -6.29549489e-15,  3.69572182e-15],\n",
       "       [-6.29549489e-15,  1.00000000e+00, -3.39771677e-15],\n",
       "       [ 3.69572182e-15, -3.39771677e-15,  1.00000000e+00]])"
      ]
     },
     "execution_count": 278,
     "metadata": {},
     "output_type": "execute_result"
    }
   ],
   "source": [
    "#test\n",
    "A=np.array([[1,4,5],[2,3,1],[3,6,5]])\n",
    "d=GramShmidt(A)\n",
    "np.dot(d,d.T)"
   ]
  },
  {
   "cell_type": "markdown",
   "id": "bdd3ff11-a632-481f-943f-f5ecab403305",
   "metadata": {},
   "source": [
    "2- Ecrire une autre fonction <i>(Q,R)=QRfactGS(A)</i> réalisation la factorisation QR avec la méthode décrite au dessus"
   ]
  },
  {
   "cell_type": "code",
   "execution_count": 279,
   "id": "35c31507",
   "metadata": {},
   "outputs": [],
   "source": [
    "#code\n",
    "def QRfactGS(A):\n",
    "    (m,n)=A.shape\n",
    "    uu=np.zeros((m,n))\n",
    "    R=np.zeros((n,n))\n",
    "    Q=np.zeros((m,n))\n",
    "    for i in range(0,n):\n",
    "        uu[:,i]=A[:,i]\n",
    "    for i in range(0,n):\n",
    "        R[i,i] = np.linalg.norm(uu[:,i],2)\n",
    "        Q[:,i] = uu[:,i]/R[i,i]\n",
    "        for j in range(i,n):\n",
    "            R[i,j] = np.dot( (Q[:,i].conjugate()).T, uu[:,j])\n",
    "            uu[:,j] = uu[:,j] - R[i,j]*Q[:,i]\n",
    "    return(Q,R)"
   ]
  },
  {
   "cell_type": "code",
   "execution_count": 280,
   "id": "559d85ef",
   "metadata": {},
   "outputs": [
    {
     "data": {
      "text/plain": [
       "array([[ 1.00000000e+00, -2.79229324e-15, -1.85666371e-16],\n",
       "       [-2.79229324e-15,  1.00000000e+00, -1.47360981e-15],\n",
       "       [-1.85666371e-16, -1.47360981e-15,  1.00000000e+00]])"
      ]
     },
     "execution_count": 280,
     "metadata": {},
     "output_type": "execute_result"
    }
   ],
   "source": [
    "#test\n",
    "d=QRfactGS(A)[0]\n",
    "#donc d est orthogonale \n",
    "np.dot(d,d.T)"
   ]
  },
  {
   "cell_type": "code",
   "execution_count": 281,
   "id": "f9dedcba",
   "metadata": {},
   "outputs": [
    {
     "data": {
      "text/plain": [
       "array([[3.74165739, 7.48331477, 5.87974732],\n",
       "       [0.        , 2.23606798, 4.02492236],\n",
       "       [0.        , 0.        , 0.47809144]])"
      ]
     },
     "execution_count": 281,
     "metadata": {},
     "output_type": "execute_result"
    }
   ],
   "source": [
    "#test\n",
    "dd=QRfactGS(A)[1]\n",
    "#R triangulaire supérieure \n",
    "dd"
   ]
  },
  {
   "cell_type": "markdown",
   "id": "753ccb62-1128-4218-b3b5-471d512dff66",
   "metadata": {},
   "source": [
    "\n",
    "\n",
    "3- Combien d'opérations, en fonction de $n$ sont-elles nécessaires pour exécuter l'algorithme ? Ce nombre d'opérations se répercute-t-il sur le temps de calcul ? (utiliser la bilbiothèque python <i>time</i> (https://docs.python.org/2/library/time.html) pour mesurer le temps de calcul)"
   ]
  },
  {
   "cell_type": "markdown",
   "id": "1f81d079",
   "metadata": {},
   "source": [
    "Le nombre d'opération nécessaire pour exécuter l'algorithme :\n",
    "$\\sum_{i=1}^n\\sum_{j=i+1}^n 1=\\sum_{i=1}^n n-i=\\dfrac{n(n-1)}{2}=\\dfrac{n^{2}}{2}+\\mathcal{o}(n) $\n"
   ]
  },
  {
   "cell_type": "code",
   "execution_count": 282,
   "id": "6a20095d",
   "metadata": {},
   "outputs": [
    {
     "data": {
      "text/plain": [
       "0.0009965896606445312"
      ]
     },
     "execution_count": 282,
     "metadata": {},
     "output_type": "execute_result"
    }
   ],
   "source": [
    "#test avec la fonction time\n",
    "A=np.array([[1,4,5],[2,3,1],[3,6,5]])\n",
    "import time \n",
    "start = time.time()\n",
    "\n",
    "QRfactGS(A)\n",
    "\n",
    "end = time.time()\n",
    "elapsed = end - start\n",
    "elapsed"
   ]
  },
  {
   "cell_type": "code",
   "execution_count": 312,
   "id": "010993ff",
   "metadata": {},
   "outputs": [
    {
     "data": {
      "image/png": "[encoded data removed]",
      "text/plain": [
       "<Figure size 720x360 with 2 Axes>"
      ]
     },
     "metadata": {
      "needs_background": "light"
     },
     "output_type": "display_data"
    }
   ],
   "source": [
    "import random\n",
    "T1=[]\n",
    "N =np.arange(0,100)\n",
    "for i in N:\n",
    "    A=np.random.rand(i,i)#création des matrices aléatoires pour tester la fonction QRfactGS()\n",
    "    start_time = time.time()\n",
    "    QRfactGS(A)\n",
    "    T1.append(time.time() - start_time)\n",
    "\n",
    "fig, axs = plt.subplots(1,2,figsize=(10,5))\n",
    "fig.suptitle('Test de temps de calcul vs N ')\n",
    "axs[0].plot(N,T1)\n",
    "axs[0].set_title(\"échelle standard\")\n",
    "axs[1].loglog(N,T1)\n",
    "axs[1].set_title(\"échelle logarithmique\")\n",
    "plt.show()"
   ]
  },
  {
   "cell_type": "markdown",
   "id": "4f6c56e8-b789-4793-a078-e7419c417dc5",
   "metadata": {},
   "source": [
    "<h2> Méthode de Householder</h2>"
   ]
  },
  {
   "cell_type": "markdown",
   "id": "c87e8dbe-87d9-4f2a-840b-1b32e8a94705",
   "metadata": {},
   "source": [
    "On appelle matrice de Householder associée à un vecteur unitaire $v \\in \\mathbb{R}^n$ la matrice :\n",
    "\\begin{equation*}\n",
    "H_v = I_n - 2 \\,  \\dfrac{ v \\, ^tv}{|v|^2}\n",
    "\\end{equation*}\n",
    "D'un point géométrique, cette matrice représente une symétrie par rapport au plan orthogonal à $v$. \n"
   ]
  },
  {
   "cell_type": "markdown",
   "id": "842096a7-345d-450b-a926-8c019a1728bf",
   "metadata": {},
   "source": [
    "1- Vérifier que toute matrice de Householder est orthogonale et symétrique"
   ]
  },
  {
   "cell_type": "markdown",
   "id": "9f69da39",
   "metadata": {},
   "source": [
    "\n",
    "Pour tout $v \\in \\mathbb{R}^n$, on a $H_v = I_n - 2 \\,  \\dfrac{ v \\, ^tv}{|v|^2}$ alors $\\,^tH_v=I_n - 2 \\,  \\dfrac{ v \\, ^tv}{|v|^2}=H_v~$ donc $~H_v~$est symétrique. $\\newline$\n",
    "on vérifie que $H_v.H_v=I_n$\n",
    "\n",
    "\\begin{align*}\n",
    "H_v.H_v & = (I_n - 2 \\,  \\dfrac{ v \\, ^tv}{|v|^2})(I_n - 2 \\,  \\dfrac{ v \\, ^tv}{|v|^2})\\\\\n",
    "& =I_n -2 \\,  \\dfrac{ v \\, ^tv}{|v|^2} - 2 \\,  \\dfrac{ v \\, ^tv}{|v|^2} + 4\\dfrac{ v \\, ^tv v \\, ^tv }{|v|^4}\\\\\n",
    "&=I_n - 4 \\,  \\dfrac{ v \\, ^tv}{|v|^2} + 4\\dfrac{v|v|^2 \\,^tv}{|v|^4}\\\\\n",
    "&=I_n -  4 \\,  \\dfrac{ v \\, ^tv}{|v|^2} + 4 \\,  \\dfrac{ v \\, ^tv}{|v|^2}\\\\\n",
    "&=I_n\n",
    "\\end{align*}\n",
    "Alors $H_v$ est orthogonal "
   ]
  },
  {
   "cell_type": "code",
   "execution_count": 316,
   "id": "196ab4d0-0dee-4766-bba7-26d423cf5698",
   "metadata": {},
   "outputs": [],
   "source": [
    "# on va créer une fonnction householder_trans(), qui definit une matrice de Householder orthogonale et symétrique\n",
    "#on va l'utiliser dans les prochaines questions  \n",
    "def householder_trans(v):\n",
    "    t=len(v)\n",
    "    I=np.eye(t)\n",
    "    c=np.dot(v,v.T)/(np.linalg.norm(v)**2)\n",
    "    H=I -2*c\n",
    "    return H"
   ]
  },
  {
   "cell_type": "code",
   "execution_count": 315,
   "id": "829b50a4",
   "metadata": {},
   "outputs": [
    {
     "name": "stdout",
     "output_type": "stream",
     "text": [
      "[[ True  True  True]\n",
      " [ True  True  True]\n",
      " [ True  True  True]]\n"
     ]
    },
    {
     "data": {
      "text/plain": [
       "array([[1., 0., 0.],\n",
       "       [0., 1., 0.],\n",
       "       [0., 0., 1.]])"
      ]
     },
     "execution_count": 315,
     "metadata": {},
     "output_type": "execute_result"
    }
   ],
   "source": [
    "#test\n",
    "z=np.array([[0],[1],[0]]) #vecteur unitaire\n",
    "d=householder_trans(z)\n",
    "#d matrice symétrique\n",
    "print(d  == d.T)\n",
    "#d matrice orthogonale \n",
    "np.dot(d,d.T)"
   ]
  },
  {
   "cell_type": "markdown",
   "id": "269843f5-726a-4a68-b1a9-f2e8e6866d2a",
   "metadata": {},
   "source": [
    "2- Soit $u \\in \\mathbb{R}^n$, déterminer un vecteur unitaire $v \\in \\mathbb{R}^n$ de telle sorte que: \n",
    "\\begin{equation*}\n",
    "H_v u = |u|e_1 \\, ,\n",
    "\\end{equation*}\n",
    "où $e_1=(1,0,...,0)$.\n"
   ]
  },
  {
   "cell_type": "markdown",
   "id": "cf0be8c3",
   "metadata": {},
   "source": [
    "On pose $v=\\dfrac{u-|u|e_1}{|u-|u|e_1|}$ donc $\\, ^tv=\\dfrac{\\, ^tu-|u|\\, ^te_1)}{|u-|u|e_1|}$ avec $u=\\begin{pmatrix}\n",
    "u_1 \\\\\n",
    "\\vdots \\\\\n",
    "u_n \\\\\n",
    "\\end{pmatrix}$\n",
    ",après on va calculer $\\, ^tvv$ $$\\begin{align*}\n",
    "&\\, ^tvv=\\dfrac{(\\, ^tu-|u|\\, ^te_1)(u-|u|e_1)}{|u-|u|e_1|^{2}} \\\\\n",
    "&=\\dfrac{\\, ^tuu-|u|\\, ^tue_1-|u|\\, ^te_1u+|u|^{2}\\, ^te_1e_1}{|u-|u|e_1|^{2}} \\\\\n",
    "&=\\dfrac{2(|u|^{2}-|u|u\\, ^te_1)}{|u-|u|e_1|^2}\\\\\n",
    "&=\\dfrac{2\\, ^tvu}{|u-|u|e_1|}\n",
    "\\end{align*}$$\n",
    "Alors $H_v.u$ = $u-2v\\dfrac{\\, ^tvu}{\\, ^tvv}$ et d'après le calcule précédent on a  $~2 \\, ^tvu=|u-|u|e_1|\\,^tvv$ donc $H_v.u=u-v|u-|u|e_1| $ ainsi $H_v.u=u-u+|u|e_1=|u|e_1$  \n"
   ]
  },
  {
   "cell_type": "code",
   "execution_count": 317,
   "id": "57dae3f7-726d-4015-970f-d56f9a2cb450",
   "metadata": {},
   "outputs": [],
   "source": [
    "#pour verifier que la norme de v égale à 1 on définit la fonction trouver()\n",
    "#on va l'utiliser dans la 3ème question \n",
    "def trouver(u):\n",
    "    n=len(u)\n",
    "    e1=np.eye(1,n)\n",
    "    un=np.linalg.norm(u)\n",
    "    z=np.linalg.norm(u-un*e1)\n",
    "    v=(u-un*e1)/z\n",
    "    return v\n"
   ]
  },
  {
   "cell_type": "code",
   "execution_count": 318,
   "id": "1d2d805c",
   "metadata": {},
   "outputs": [
    {
     "data": {
      "text/plain": [
       "1.0"
      ]
     },
     "execution_count": 318,
     "metadata": {},
     "output_type": "execute_result"
    }
   ],
   "source": [
    "b=trouver(np.array([1,2,3]))\n",
    "np.linalg.norm(b)\n",
    "#donc b est unitaire "
   ]
  },
  {
   "cell_type": "markdown",
   "id": "300381a7-50ef-4e0d-b426-f40d69c86767",
   "metadata": {},
   "source": [
    "\n",
    "\n",
    "\n",
    "\n",
    "\n",
    "<p>Le principe de la méthode de Householder est le suivant. Considérons $A=(v_1,v_2,...,v_n)$. On commence par factoriser $A$ à l'aide de la matrice de Householder $H_1$ permettant de transformer $v_1$ en $|v_1| e_1$ :</p>\n",
    "\\begin{equation*}\n",
    "A= H_1  \\begin{pmatrix} \\star & ... & ... s & ... \\\\ 0 &  & &  \\\\ \\vdots & & A_1 & \\\\ 0 & & & \\end{pmatrix}\n",
    "\\end{equation*}\n",
    "<p>On détermine alors la matrice de Householder $H_2$ permettant de transformer la première colonne de la sous-matrice $A_1$ de la même manière que précédemment. On a alors</p>\n",
    "\\begin{equation*}\n",
    " A= \\begin{pmatrix} 1 & 0 & ... & 0 \\\\ 0 &   & &  \\\\ \\vdots & & H_2 & \\\\ 0 & & & \\end{pmatrix} H_1  \\, \\begin{pmatrix} \\star & ... & ... & ... & ... \\\\ 0 & \\star & ... & ... & ...  \\\\  0 & 0 & & \\\\ \\vdots & \\vdots & &  A_2 & \\\\ 0 &0 & & & \\end{pmatrix}\n",
    "\\end{equation*}\n",
    "<p>On continue ce procédé jusqu'à obtenir une matrice triangulaire supérieure. Notons bien que chacune des matrices :</p>\n",
    "\\begin{equation*}\n",
    "\\begin{pmatrix} I_k & 0 \\\\ 0 & H_{k+1} \\end{pmatrix}\n",
    "\\end{equation*}\n",
    "<p>est orthogonale, ainsi leur produit est la matrice orthogonale $Q$ rechechée.</p>"
   ]
  },
  {
   "cell_type": "markdown",
   "id": "7229c408-124e-4b72-a28c-19ae181882b4",
   "metadata": {},
   "source": [
    "3- Ecrire une fonction en python <i>H=Householder(A)</i> qui retourne la matrice de Householder permettant de tranformer la première colonne de $A$ en $(1,0,...,0)$."
   ]
  },
  {
   "cell_type": "code",
   "execution_count": 319,
   "id": "2ef5ddcb",
   "metadata": {},
   "outputs": [],
   "source": [
    "#code\n",
    "def Householder(A):\n",
    "    (n,m)=A.shape\n",
    "    u=A[:,0]\n",
    "    v=trouver(u).reshape(n,1) #la fonction prend un matrice colonne de taille (n,1) \n",
    "    return householder_trans(v)"
   ]
  },
  {
   "cell_type": "code",
   "execution_count": 289,
   "id": "63a47f69",
   "metadata": {},
   "outputs": [
    {
     "data": {
      "text/plain": [
       "array([[ 3.74165739e+00,  7.48331477e+00,  5.87974732e+00],\n",
       "       [ 0.00000000e+00,  4.58971504e-01,  3.58236863e-01],\n",
       "       [-1.11022302e-16,  2.18845726e+00,  4.03735530e+00]])"
      ]
     },
     "execution_count": 289,
     "metadata": {},
     "output_type": "execute_result"
    }
   ],
   "source": [
    "#test\n",
    "A=np.array([[1,4,5],[2,3,1],[3,6,5]])\n",
    "z=Householder(A)\n",
    "#on fait le produit matricielle entre la matrice de Householder et A \n",
    "np.dot(z,A)"
   ]
  },
  {
   "cell_type": "markdown",
   "id": "24e46d08-a6e8-4820-ae84-45b1037594c4",
   "metadata": {},
   "source": [
    "4- Ecrire une fonction en python <i>(Q,R)=QRfactH(A)</i> qui réalise la factorisation QR avec la méthode de Householder."
   ]
  },
  {
   "cell_type": "code",
   "execution_count": 320,
   "id": "449d2598",
   "metadata": {},
   "outputs": [],
   "source": [
    "#code\n",
    "def  QRfactH(A):\n",
    "    m, n = A.shape\n",
    "    Q = np.eye(m)\n",
    "    R = A.copy()\n",
    "    for k in range(0,n):\n",
    "        w = R[k:, [k]]\n",
    "        e1 = np.zeros_like(w)\n",
    "        e1[0] = 1.0\n",
    "        gama= np.linalg.norm(w)\n",
    "        v = w + np.sign(w[0]) * gama * e1\n",
    "        v /= np.linalg.norm(v)\n",
    "        a_k=householder_trans(v)\n",
    "        a_k = np.block([[np.eye(k), np.zeros((k, m - k))], [np.zeros((m - k, k)), a_k]])\n",
    "        Q = np.dot(Q,a_k.T)\n",
    "        R = np.dot(a_k,R)\n",
    "\n",
    "    return Q, R"
   ]
  },
  {
   "cell_type": "code",
   "execution_count": 301,
   "id": "a70875b8",
   "metadata": {},
   "outputs": [
    {
     "data": {
      "text/plain": [
       "(array([[-2.67261242e-01,  8.94427191e-01,  3.58568583e-01],\n",
       "        [-5.34522484e-01, -4.47213595e-01,  7.17137166e-01],\n",
       "        [-8.01783726e-01,  8.53411475e-17, -5.97614305e-01]]),\n",
       " array([[-3.74165739e+00, -7.48331477e+00, -5.87974732e+00],\n",
       "        [ 4.28968391e-16,  2.23606798e+00,  4.02492236e+00],\n",
       "        [-1.59772643e-16, -3.27877590e-18, -4.78091444e-01]]))"
      ]
     },
     "execution_count": 301,
     "metadata": {},
     "output_type": "execute_result"
    }
   ],
   "source": [
    "#test\n",
    "A=np.array([[1,4,5],[2,3,1],[3,6,5]])\n",
    "QRfactH(A)\n"
   ]
  },
  {
   "cell_type": "code",
   "execution_count": 302,
   "id": "9a5c19a8",
   "metadata": {},
   "outputs": [
    {
     "data": {
      "text/plain": [
       "array([[ 1.00000000e+00,  1.73434913e-17, -1.84707541e-17],\n",
       "       [ 1.73434913e-17,  1.00000000e+00, -1.58801176e-16],\n",
       "       [-1.84707541e-17, -1.58801176e-16,  1.00000000e+00]])"
      ]
     },
     "execution_count": 302,
     "metadata": {},
     "output_type": "execute_result"
    }
   ],
   "source": [
    "#TEST\n",
    "vv=QRfactH(A)[0]\n",
    "np.dot(vv,vv.T)\n",
    "#matrice orthogonale"
   ]
  },
  {
   "cell_type": "code",
   "execution_count": 303,
   "id": "94178b4f",
   "metadata": {},
   "outputs": [
    {
     "data": {
      "text/plain": [
       "array([[-3.74165739e+00, -7.48331477e+00, -5.87974732e+00],\n",
       "       [ 4.28968391e-16,  2.23606798e+00,  4.02492236e+00],\n",
       "       [-1.59772643e-16, -3.27877590e-18, -4.78091444e-01]])"
      ]
     },
     "execution_count": 303,
     "metadata": {},
     "output_type": "execute_result"
    }
   ],
   "source": [
    "#TEST\n",
    "QRfactH(A)[1]\n",
    "#matrice traingulaire sup"
   ]
  },
  {
   "cell_type": "markdown",
   "id": "6819aff8-2f85-4317-8f8f-91cb8239d0b3",
   "metadata": {},
   "source": [
    "5- Combien d'opérations, en fonction de $n$ sont-elles nécessaires pour exécuter l'algorithme ? Ce nombre d'opérations se répercute-t-il sur le temps de calcul ?"
   ]
  },
  {
   "cell_type": "markdown",
   "id": "9407658f",
   "metadata": {},
   "source": [
    "\n",
    "Le nombre d'opération nécessaire pour exécuter l'algorithme :\n",
    "$\\sum_{k=1}^n 1=n$\n"
   ]
  },
  {
   "cell_type": "code",
   "execution_count": 322,
   "id": "20a7c1d5",
   "metadata": {},
   "outputs": [
    {
     "data": {
      "text/plain": [
       "0.0019958019256591797"
      ]
     },
     "execution_count": 322,
     "metadata": {},
     "output_type": "execute_result"
    }
   ],
   "source": [
    "#Test de temps\n",
    "A=np.array([[1,4,5],[2,3,1],[3,6,5]])\n",
    "import time \n",
    "start = time.time()\n",
    "\n",
    "QRfactH(A)\n",
    "\n",
    "end = time.time()\n",
    "elapsed = end - start\n",
    "elapsed\n"
   ]
  },
  {
   "cell_type": "code",
   "execution_count": 323,
   "id": "e5799776",
   "metadata": {},
   "outputs": [
    {
     "data": {
      "image/png": "[encoded data removed]",
      "text/plain": [
       "<Figure size 720x360 with 2 Axes>"
      ]
     },
     "metadata": {
      "needs_background": "light"
     },
     "output_type": "display_data"
    }
   ],
   "source": [
    "import random\n",
    "T2=[]\n",
    "N=np.arange(0,100)\n",
    "for i in N:\n",
    "    A=np.random.rand(i,i)#création des matrices aléatoires pour tester la fonction QRfactGS()\n",
    "    start_time = time.time()\n",
    "    QRfactH(A)\n",
    "    T2.append(time.time() - start_time)\n",
    "\n",
    "fig, axs = plt.subplots(1,2,figsize=(10,5))\n",
    "fig.suptitle('Test de temps du calcul vs N')\n",
    "axs[0].plot(N,T2)\n",
    "axs[0].set_title('échelle standard')\n",
    "axs[1].loglog(N,T2)\n",
    "axs[1].set_title(\"échelle logarithmique\")\n",
    "plt.show()"
   ]
  },
  {
   "cell_type": "markdown",
   "id": "c8a0e707-fd26-4144-b963-5be62c62bdf8",
   "metadata": {},
   "source": [
    "On considère la matrice suivante :\n",
    "\\begin{equation*}\n",
    "A_n = PD ~^t P\n",
    "\\end{equation*}\n",
    "où P est la matrice de Hadamard de taille $N$ (divisée par $\\sqrt{n}$ pour obtenir une matrice orthogonale) et $d_{kk}=10^{-k}$ avec $D$ diagonale. Il est possible d'obtenir la matrice de Hadamard de taille $N$ avec <i>scipy.linalg.hadamard</i> (https://docs.scipy.org/doc/scipy-0.14.0/reference/generated/scipy.linalg.hadamard.html}\\medskip)\n"
   ]
  },
  {
   "cell_type": "markdown",
   "id": "7f91424a-d358-420f-8555-4a2e6c097522",
   "metadata": {},
   "source": [
    "6- Montrer que $\\text{cond}_2(A_n)=10^k$"
   ]
  },
  {
   "cell_type": "markdown",
   "id": "614e607d",
   "metadata": {},
   "source": [
    "On a $\\text{cond}_2(A_n)=|||A_n||||||A_n^{-1}|||~$ avec |||.||| comme une  norme  matricielle et $|||A_n||| \\leq |||P||||||D||||||\\,^tP|||$ où $|||P|||=|||\\,^tP|||=1$ car $P$ est orthogonale. $\\newline$\n",
    "On sait que $|||D|||=max_{||X||_2=1}||DX||_2$ et $||DX||_2=max_{k=1...n}|d_{kk}|~||X||_2=max_{k=1...n} 10^{-k}=10^{-1}$ donc$~|||A_n|||=10^{-1}~$ et par la même méthode on en déduit que $~|||A_n^{-1}|||=10^{n}~$.$\\newline$\n",
    "Donc $\\text{cond}_2(A_n)=10^{n}10^{-1}=10^{n-1}$."
   ]
  },
  {
   "cell_type": "markdown",
   "id": "28e5c0e4-ad6a-4e87-aab4-dc74f0e0a2e6",
   "metadata": {},
   "source": [
    "7- On définit de défaut d'orthogonalité d'une matrice $Q$ par : $||I-Q^tQ||$. Etudier, en fonction de $n$ le défaut d'orthogonalité sur $A_n$ donné par la matrice $Q$ obtenue successivement avec la méthode de Gram-Schmidt et de Householder. Qu'en déduit-on ?"
   ]
  },
  {
   "cell_type": "code",
   "execution_count": 324,
   "id": "2ba2c3b9",
   "metadata": {},
   "outputs": [],
   "source": [
    "#code\n",
    "def alia(A):\n",
    "    n,m=A.shape\n",
    "    I=np.eye(n)\n",
    "    p=np.dot(A.T,A)\n",
    "    z=np.linalg.norm(I-p)\n",
    "    return z"
   ]
  },
  {
   "cell_type": "code",
   "execution_count": 325,
   "id": "6f745beb",
   "metadata": {},
   "outputs": [
    {
     "data": {
      "text/plain": [
       "7.407962035494264e-15"
      ]
     },
     "execution_count": 325,
     "metadata": {},
     "output_type": "execute_result"
    }
   ],
   "source": [
    "#test methode Gram-Schmid\n",
    "A=np.array([[1,4,5],[2,3,1],[3,6,5]])\n",
    "a=QRfactGS(A)[0]\n",
    "alia(a)"
   ]
  },
  {
   "cell_type": "code",
   "execution_count": 326,
   "id": "93701054",
   "metadata": {},
   "outputs": [
    {
     "data": {
      "text/plain": [
       "3.608190312102367e-16"
      ]
     },
     "execution_count": 326,
     "metadata": {},
     "output_type": "execute_result"
    }
   ],
   "source": [
    "#test methode Householder\n",
    "b=QRfactH(A)[0]\n",
    "alia(b)"
   ]
  },
  {
   "cell_type": "code",
   "execution_count": 311,
   "id": "75293a9d",
   "metadata": {},
   "outputs": [
    {
     "data": {
      "image/png": "[encoded data removed]",
      "text/plain": [
       "<Figure size 432x288 with 1 Axes>"
      ]
     },
     "metadata": {
      "needs_background": "light"
     },
     "output_type": "display_data"
    }
   ],
   "source": [
    "#representation graphique \n",
    "D=[]  \n",
    "V=[]\n",
    "for i in np.arange(0,100):\n",
    "    A=np.random.rand(i,i)\n",
    "    n=alia(QRfactH(A)[0])\n",
    "    D.append(n)\n",
    "    p=alia(QRfactGS(A)[0])\n",
    "    V.append(p)\n",
    "N=np.arange(0,100)\n",
    "plt.plot(N,V,label=\"Gram-Schmidt\")\n",
    "plt.plot(N,D,label=\"Householder\")\n",
    "plt.legend()\n",
    "plt.show()"
   ]
  },
  {
   "cell_type": "code",
   "execution_count": null,
   "id": "ddee56c9",
   "metadata": {},
   "outputs": [],
   "source": []
  }
 ],
 "metadata": {
  "kernelspec": {
   "display_name": "Python 3",
   "language": "python",
   "name": "python3"
  },
  "language_info": {
   "codemirror_mode": {
    "name": "ipython",
    "version": 3
   },
   "file_extension": ".py",
   "mimetype": "text/x-python",
   "name": "python",
   "nbconvert_exporter": "python",
   "pygments_lexer": "ipython3",
   "version": "3.8.8"
  }
 },
 "nbformat": 4,
 "nbformat_minor": 5
}
