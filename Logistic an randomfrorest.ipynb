{
 "cells": [
  {
   "cell_type": "code",
   "execution_count": 62,
   "id": "31adb8b8",
   "metadata": {},
   "outputs": [],
   "source": [
    "import numpy as np \n",
    "import pandas as pd\n",
    "from sklearn.preprocessing import StandardScaler\n",
    "from sklearn.linear_model import LogisticRegression\n",
    "from sklearn.preprocessing import LabelEncoder\n",
    "from sklearn.ensemble import RandomForestClassifier \n",
    "from sklearn.metrics import accuracy_score\n",
    "from sklearn.model_selection import train_test_split\n",
    "from sklearn.metrics import accuracy_score, precision_score, recall_score, f1_score, roc_auc_score\n",
    "import matplotlib.pyplot as plt\n",
    "import seaborn as sns \n",
    "import warnings \n",
    "warnings.simplefilter(action=\"ignore\")"
   ]
  },
  {
   "cell_type": "code",
   "execution_count": 33,
   "id": "f549fb3b",
   "metadata": {},
   "outputs": [
    {
     "name": "stdout",
     "output_type": "stream",
     "text": [
      "(1319, 9)\n",
      "<class 'pandas.core.frame.DataFrame'>\n",
      "RangeIndex: 1319 entries, 0 to 1318\n",
      "Data columns (total 9 columns):\n",
      " #   Column         Non-Null Count  Dtype  \n",
      "---  ------         --------------  -----  \n",
      " 0   age            1319 non-null   int64  \n",
      " 1   gender         1319 non-null   int64  \n",
      " 2   impluse        1319 non-null   int64  \n",
      " 3   pressurehight  1319 non-null   int64  \n",
      " 4   pressurelow    1319 non-null   int64  \n",
      " 5   glucose        1319 non-null   float64\n",
      " 6   kcm            1319 non-null   float64\n",
      " 7   troponin       1319 non-null   float64\n",
      " 8   class          1319 non-null   object \n",
      "dtypes: float64(3), int64(5), object(1)\n",
      "memory usage: 92.9+ KB\n",
      "None\n"
     ]
    }
   ],
   "source": [
    "data=pd.read_csv('Heart Attack.csv')\n",
    "print(data.shape)\n",
    "print(data.info())"
   ]
  },
  {
   "cell_type": "code",
   "execution_count": 37,
   "id": "8392617f",
   "metadata": {
    "scrolled": true
   },
   "outputs": [
    {
     "data": {
      "text/plain": [
       "age              0\n",
       "gender           0\n",
       "impluse          0\n",
       "pressurehight    0\n",
       "pressurelow      0\n",
       "glucose          0\n",
       "kcm              0\n",
       "troponin         0\n",
       "class            0\n",
       "dtype: int64"
      ]
     },
     "execution_count": 37,
     "metadata": {},
     "output_type": "execute_result"
    }
   ],
   "source": [
    "data.isnull().sum()"
   ]
  },
  {
   "cell_type": "code",
   "execution_count": 38,
   "id": "c375e4d3",
   "metadata": {},
   "outputs": [],
   "source": [
    "scaler = StandardScaler()\n",
    "data[['age', 'impluse', 'pressurehight', 'pressurelow', 'glucose', 'kcm', 'troponin']] = scaler.fit_transform(data[['age', 'impluse', 'pressurehight', 'pressurelow', 'glucose', 'kcm', 'troponin']])"
   ]
  },
  {
   "cell_type": "code",
   "execution_count": 47,
   "id": "38ed362a",
   "metadata": {},
   "outputs": [],
   "source": [
    "le = LabelEncoder()\n",
    "data['gender'] = le.fit_transform(data['gender'])\n"
   ]
  },
  {
   "cell_type": "code",
   "execution_count": 52,
   "id": "40c38507",
   "metadata": {},
   "outputs": [],
   "source": [
    "X=data.drop(\"class\",axis=1)\n",
    "y=data[\"class\"]\n",
    "y=le.fit_transform(y)\n",
    "X_train, X_test, y_train, y_test =train_test_split(X,y,test_size=0.2,random_state=112)\n",
    "#validation test\n",
    "X_train, X_val, y_train, y_val = train_test_split(X_train, y_train, test_size=0.2, random_state=42)"
   ]
  },
  {
   "cell_type": "code",
   "execution_count": 58,
   "id": "db26b8b6",
   "metadata": {},
   "outputs": [
    {
     "name": "stdout",
     "output_type": "stream",
     "text": [
      "Validation accuracy (logistic Regression) 0.8009478672985783\n"
     ]
    }
   ],
   "source": [
    "logrerg =LogisticRegression(random_state=112)\n",
    "logrerg.fit(X_train,y_train)\n",
    "y_val_pred=logrerg.predict(X_val)\n",
    "print(\"Validation accuracy (logistic Regression)\",accuracy_score(y_val,y_val_pred))"
   ]
  },
  {
   "cell_type": "code",
   "execution_count": 61,
   "id": "8cf6302b",
   "metadata": {},
   "outputs": [
    {
     "name": "stdout",
     "output_type": "stream",
     "text": [
      "Validation accuracy (logistic Regression) 0.9715639810426541\n"
     ]
    }
   ],
   "source": [
    "rf=RandomForestClassifier(random_state=112)\n",
    "rf.fit(X_train,y_train)\n",
    "y_val_pred=rf.predict(X_val)\n",
    "print(\"Validation accuracy (logistic Regression)\",accuracy_score(y_val,y_val_pred))"
   ]
  },
  {
   "cell_type": "code",
   "execution_count": 63,
   "id": "00f76441",
   "metadata": {},
   "outputs": [
    {
     "name": "stdout",
     "output_type": "stream",
     "text": [
      "Test Metrics (Logistic Regression):\n",
      "Accuracy =  0.7651515151515151\n",
      "Precision =  0.8410596026490066\n",
      "ROC AUC =  0.7636363636363636\n"
     ]
    }
   ],
   "source": [
    "y_test_pred= logrerg.predict(X_test)\n",
    "\n",
    "accuracy = accuracy_score(y_test,y_test_pred)\n",
    "precision =precision_score(y_test,y_test_pred)\n",
    "roc_auc =roc_auc_score(y_test,y_test_pred)\n",
    "\n",
    "print('Test Metrics (Logistic Regression):')\n",
    "print('Accuracy = ', accuracy)\n",
    "print('Precision = ', precision)\n",
    "print('ROC AUC = ', roc_auc)"
   ]
  },
  {
   "cell_type": "code",
   "execution_count": 64,
   "id": "25df2b92",
   "metadata": {},
   "outputs": [
    {
     "name": "stdout",
     "output_type": "stream",
     "text": [
      "Test Metrics (randomforest):\n",
      "Accuracy =  0.9886363636363636\n",
      "Precision =  1.0\n",
      "ROC AUC =  0.990909090909091\n"
     ]
    }
   ],
   "source": [
    "y_test_pred =rf.predict(X_test)\n",
    "accuracy = accuracy_score(y_test,y_test_pred)\n",
    "precision =precision_score(y_test,y_test_pred)\n",
    "roc_auc =roc_auc_score(y_test,y_test_pred)\n",
    "print('Test Metrics (randomforest):')\n",
    "print('Accuracy = ', accuracy)\n",
    "print('Precision = ', precision)\n",
    "print('ROC AUC = ', roc_auc)"
   ]
  },
  {
   "cell_type": "code",
   "execution_count": 67,
   "id": "11e164ea",
   "metadata": {},
   "outputs": [
    {
     "name": "stdout",
     "output_type": "stream",
     "text": [
      "(211, 8)\n",
      "(264, 8)\n"
     ]
    }
   ],
   "source": [
    "print(X_val.shape)\n",
    "\n",
    "print(X_test.shape)"
   ]
  }
 ],
 "metadata": {
  "kernelspec": {
   "display_name": "Python 3",
   "language": "python",
   "name": "python3"
  },
  "language_info": {
   "codemirror_mode": {
    "name": "ipython",
    "version": 3
   },
   "file_extension": ".py",
   "mimetype": "text/x-python",
   "name": "python",
   "nbconvert_exporter": "python",
   "pygments_lexer": "ipython3",
   "version": "3.8.8"
  }
 },
 "nbformat": 4,
 "nbformat_minor": 5
}
