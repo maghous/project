{
 "cells": [
  {
   "cell_type": "markdown",
   "metadata": {},
   "source": [
    "<center><h1>TP 3 - Data challenge</h1> </center>"
   ]
  },
  {
   "cell_type": "markdown",
   "metadata": {},
   "source": [
    "Le but de ce TP est de vous faire participer à un data challenge kaggle du début à la fin. Le challenge en question est le suivant :\n",
    "<center> <a>https://www.kaggle.com/c/titanic</a> </center>\n",
    "Le principe est le suivant : vous disposez de deux jeux de données sur des passagers du titanic :\n",
    "<ul>\n",
    "    <li> Un jeu de données sur les passagers pour lequel le champ 'Survived' (qui indique la survie du passager) est connu, appelé donnée d'entrainement (train.csv) </li>\n",
    "    <li> Un jeu de données pour lequel le champ 'Survived' est caché, appelé donnée test (test.csv)</li>\n",
    "</ul>\n",
    "<p>Le but du jeu est de construire une fonction qui prenne en entrée les informations sur un passager, et qui donne une prédiction de survie ou non du passager. Cette fonction sera construite grâce aux données dites d'entrainement, et sera évaluée sur les données de test (et soumise à l'évaluation sur kaggle, qui dispose de l'information cachée).</p>"
   ]
  },
  {
   "cell_type": "markdown",
   "metadata": {},
   "source": [
    "<h2> Prise en main du problème </h2>\n",
    "Lire en détails la page du data challenge \"titanic\", prendre connaissance en particulier de la nature des données, et de ce qui est attendu comme soumission de fichier pour obtenir un classement."
   ]
  },
  {
   "cell_type": "markdown",
   "metadata": {},
   "source": [
    "<h2>Chargement et traitement de données </h2>\n",
    "    Charger, à l'aide de pandas les fichiers train.csv et test.csv, les concaténer afin de procéder à des traitement identiques sur les deux jeux de données. Enfin afficher les DataFrames obtenus."
   ]
  },
  {
   "cell_type": "code",
   "execution_count": 146,
   "metadata": {},
   "outputs": [],
   "source": [
    "import pandas as pd \n",
    "df=pd.read_csv('train.csv')\n",
    "df1=pd.read_csv('test.csv')"
   ]
  },
  {
   "cell_type": "markdown",
   "metadata": {},
   "source": [
    "Y-a-t-il a priori des données qui ne sont pas à prendre en compte pour prédire la survie du passager ? Supprimer ces données du DataFrame."
   ]
  },
  {
   "cell_type": "code",
   "execution_count": 147,
   "metadata": {},
   "outputs": [
    {
     "data": {
      "text/plain": [
       "Index(['PassengerId', 'Survived', 'Pclass', 'Name', 'Sex', 'Age', 'SibSp',\n",
       "       'Parch', 'Ticket', 'Fare', 'Cabin', 'Embarked'],\n",
       "      dtype='object')"
      ]
     },
     "execution_count": 147,
     "metadata": {},
     "output_type": "execute_result"
    }
   ],
   "source": [
    "titanic_df = pd.concat([df,df1], ignore_index = True, sort = False)\n",
    "titanic_df.columns"
   ]
  },
  {
   "cell_type": "code",
   "execution_count": 148,
   "metadata": {},
   "outputs": [],
   "source": [
    "#supprimer les colonnes initules\n",
    "del titanic_df[\"Name\"]\n",
    "del titanic_df[\"Cabin\"]\n",
    "del titanic_df[\"Fare\"]\n",
    "del titanic_df[\"Ticket\"]\n",
    "\n"
   ]
  },
  {
   "cell_type": "code",
   "execution_count": 149,
   "metadata": {},
   "outputs": [
    {
     "data": {
      "text/html": [
       "<div>\n",
       "<style scoped>\n",
       "    .dataframe tbody tr th:only-of-type {\n",
       "        vertical-align: middle;\n",
       "    }\n",
       "\n",
       "    .dataframe tbody tr th {\n",
       "        vertical-align: top;\n",
       "    }\n",
       "\n",
       "    .dataframe thead th {\n",
       "        text-align: right;\n",
       "    }\n",
       "</style>\n",
       "<table border=\"1\" class=\"dataframe\">\n",
       "  <thead>\n",
       "    <tr style=\"text-align: right;\">\n",
       "      <th></th>\n",
       "      <th>PassengerId</th>\n",
       "      <th>Survived</th>\n",
       "      <th>Pclass</th>\n",
       "      <th>Sex</th>\n",
       "      <th>Age</th>\n",
       "      <th>SibSp</th>\n",
       "      <th>Parch</th>\n",
       "      <th>Embarked</th>\n",
       "    </tr>\n",
       "  </thead>\n",
       "  <tbody>\n",
       "    <tr>\n",
       "      <th>0</th>\n",
       "      <td>1</td>\n",
       "      <td>0.0</td>\n",
       "      <td>3</td>\n",
       "      <td>male</td>\n",
       "      <td>22.0</td>\n",
       "      <td>1</td>\n",
       "      <td>0</td>\n",
       "      <td>S</td>\n",
       "    </tr>\n",
       "    <tr>\n",
       "      <th>1</th>\n",
       "      <td>2</td>\n",
       "      <td>1.0</td>\n",
       "      <td>1</td>\n",
       "      <td>female</td>\n",
       "      <td>38.0</td>\n",
       "      <td>1</td>\n",
       "      <td>0</td>\n",
       "      <td>C</td>\n",
       "    </tr>\n",
       "    <tr>\n",
       "      <th>2</th>\n",
       "      <td>3</td>\n",
       "      <td>1.0</td>\n",
       "      <td>3</td>\n",
       "      <td>female</td>\n",
       "      <td>26.0</td>\n",
       "      <td>0</td>\n",
       "      <td>0</td>\n",
       "      <td>S</td>\n",
       "    </tr>\n",
       "    <tr>\n",
       "      <th>3</th>\n",
       "      <td>4</td>\n",
       "      <td>1.0</td>\n",
       "      <td>1</td>\n",
       "      <td>female</td>\n",
       "      <td>35.0</td>\n",
       "      <td>1</td>\n",
       "      <td>0</td>\n",
       "      <td>S</td>\n",
       "    </tr>\n",
       "    <tr>\n",
       "      <th>4</th>\n",
       "      <td>5</td>\n",
       "      <td>0.0</td>\n",
       "      <td>3</td>\n",
       "      <td>male</td>\n",
       "      <td>35.0</td>\n",
       "      <td>0</td>\n",
       "      <td>0</td>\n",
       "      <td>S</td>\n",
       "    </tr>\n",
       "    <tr>\n",
       "      <th>...</th>\n",
       "      <td>...</td>\n",
       "      <td>...</td>\n",
       "      <td>...</td>\n",
       "      <td>...</td>\n",
       "      <td>...</td>\n",
       "      <td>...</td>\n",
       "      <td>...</td>\n",
       "      <td>...</td>\n",
       "    </tr>\n",
       "    <tr>\n",
       "      <th>1304</th>\n",
       "      <td>1305</td>\n",
       "      <td>NaN</td>\n",
       "      <td>3</td>\n",
       "      <td>male</td>\n",
       "      <td>NaN</td>\n",
       "      <td>0</td>\n",
       "      <td>0</td>\n",
       "      <td>S</td>\n",
       "    </tr>\n",
       "    <tr>\n",
       "      <th>1305</th>\n",
       "      <td>1306</td>\n",
       "      <td>NaN</td>\n",
       "      <td>1</td>\n",
       "      <td>female</td>\n",
       "      <td>39.0</td>\n",
       "      <td>0</td>\n",
       "      <td>0</td>\n",
       "      <td>C</td>\n",
       "    </tr>\n",
       "    <tr>\n",
       "      <th>1306</th>\n",
       "      <td>1307</td>\n",
       "      <td>NaN</td>\n",
       "      <td>3</td>\n",
       "      <td>male</td>\n",
       "      <td>38.5</td>\n",
       "      <td>0</td>\n",
       "      <td>0</td>\n",
       "      <td>S</td>\n",
       "    </tr>\n",
       "    <tr>\n",
       "      <th>1307</th>\n",
       "      <td>1308</td>\n",
       "      <td>NaN</td>\n",
       "      <td>3</td>\n",
       "      <td>male</td>\n",
       "      <td>NaN</td>\n",
       "      <td>0</td>\n",
       "      <td>0</td>\n",
       "      <td>S</td>\n",
       "    </tr>\n",
       "    <tr>\n",
       "      <th>1308</th>\n",
       "      <td>1309</td>\n",
       "      <td>NaN</td>\n",
       "      <td>3</td>\n",
       "      <td>male</td>\n",
       "      <td>NaN</td>\n",
       "      <td>1</td>\n",
       "      <td>1</td>\n",
       "      <td>C</td>\n",
       "    </tr>\n",
       "  </tbody>\n",
       "</table>\n",
       "<p>1309 rows × 8 columns</p>\n",
       "</div>"
      ],
      "text/plain": [
       "      PassengerId  Survived  Pclass     Sex   Age  SibSp  Parch Embarked\n",
       "0               1       0.0       3    male  22.0      1      0        S\n",
       "1               2       1.0       1  female  38.0      1      0        C\n",
       "2               3       1.0       3  female  26.0      0      0        S\n",
       "3               4       1.0       1  female  35.0      1      0        S\n",
       "4               5       0.0       3    male  35.0      0      0        S\n",
       "...           ...       ...     ...     ...   ...    ...    ...      ...\n",
       "1304         1305       NaN       3    male   NaN      0      0        S\n",
       "1305         1306       NaN       1  female  39.0      0      0        C\n",
       "1306         1307       NaN       3    male  38.5      0      0        S\n",
       "1307         1308       NaN       3    male   NaN      0      0        S\n",
       "1308         1309       NaN       3    male   NaN      1      1        C\n",
       "\n",
       "[1309 rows x 8 columns]"
      ]
     },
     "execution_count": 149,
     "metadata": {},
     "output_type": "execute_result"
    }
   ],
   "source": [
    "titanic_df"
   ]
  },
  {
   "cell_type": "markdown",
   "metadata": {},
   "source": [
    "Y-a-t-il des données manquantes ? Sur quelles propriétés ? Pensez à jeter un coup d'oeil à la doc de pandas sur le sujet :\n",
    "<p><center><a>https://pandas.pydata.org/pandas-docs/stable/user_guide/missing_data.html</a></center></p>\n",
    "<p>Remplacer les données manquantes par des valeurs spéciales, et rajouter un champ au DataFrame pour indiquer l'existence ou non d'une donnée manquante sur cette propriété. </p> \n",
    "<p>Exemple:</p>"
   ]
  },
  {
   "cell_type": "code",
   "execution_count": null,
   "metadata": {
    "execution": {
     "iopub.execute_input": "2021-11-18T21:17:59.064476Z",
     "iopub.status.busy": "2021-11-18T21:17:59.064222Z",
     "iopub.status.idle": "2021-11-18T21:17:59.076349Z",
     "shell.execute_reply": "2021-11-18T21:17:59.075383Z",
     "shell.execute_reply.started": "2021-11-18T21:17:59.064447Z"
    }
   },
   "outputs": [],
   "source": [
    "import pandas as pd\n",
    "import numpy as np\n",
    "# On crée une dataframe avec des données manquantes (np.nan)\n",
    "dat=pd.DataFrame({\"score\":[1,-2,3,10],'tricheur':[np.nan,'non',np.nan,'oui']})\n",
    "dat"
   ]
  },
  {
   "cell_type": "code",
   "execution_count": null,
   "metadata": {
    "_cell_guid": "b1076dfc-b9ad-4769-8c92-a6c4dae69d19",
    "_uuid": "8f2839f25d086af736a60e9eeb907d3b93b6e0e5",
    "execution": {
     "iopub.execute_input": "2021-11-18T21:17:59.624858Z",
     "iopub.status.busy": "2021-11-18T21:17:59.624577Z",
     "iopub.status.idle": "2021-11-18T21:17:59.638567Z",
     "shell.execute_reply": "2021-11-18T21:17:59.63773Z",
     "shell.execute_reply.started": "2021-11-18T21:17:59.624829Z"
    }
   },
   "outputs": [],
   "source": [
    "# On rajoute une colonne disant si l'on a une valeur manquante au champ 'tricheur'\n",
    "dat['sait-on ?']=dat['tricheur'].isna()\n",
    "# On remplace la donnée manquante par la valeur spéciale 'je sais pas'\n",
    "dat=dat.fillna('je sais pas')\n",
    "dat"
   ]
  },
  {
   "cell_type": "markdown",
   "metadata": {
    "execution": {
     "iopub.execute_input": "2021-11-18T21:20:53.853022Z",
     "iopub.status.busy": "2021-11-18T21:20:53.852639Z",
     "iopub.status.idle": "2021-11-18T21:20:53.859273Z",
     "shell.execute_reply": "2021-11-18T21:20:53.858155Z",
     "shell.execute_reply.started": "2021-11-18T21:20:53.85298Z"
    }
   },
   "source": [
    "Transformer toutes les variables catégorielles données par des chaines de caractères par des variables numériques."
   ]
  },
  {
   "cell_type": "code",
   "execution_count": 150,
   "metadata": {},
   "outputs": [
    {
     "data": {
      "text/plain": [
       "Index(['PassengerId', 'Survived', 'Pclass', 'Sex', 'Age', 'SibSp', 'Parch',\n",
       "       'Embarked'],\n",
       "      dtype='object')"
      ]
     },
     "execution_count": 150,
     "metadata": {},
     "output_type": "execute_result"
    }
   ],
   "source": [
    "titanic_df.columns"
   ]
  },
  {
   "cell_type": "code",
   "execution_count": 151,
   "metadata": {},
   "outputs": [
    {
     "data": {
      "text/plain": [
       "(1309, 8)"
      ]
     },
     "execution_count": 151,
     "metadata": {},
     "output_type": "execute_result"
    }
   ],
   "source": [
    "titanic_df.shape"
   ]
  },
  {
   "cell_type": "code",
   "execution_count": 152,
   "metadata": {},
   "outputs": [
    {
     "name": "stdout",
     "output_type": "stream",
     "text": [
      "<class 'pandas.core.frame.DataFrame'>\n",
      "RangeIndex: 1309 entries, 0 to 1308\n",
      "Data columns (total 8 columns):\n",
      " #   Column       Non-Null Count  Dtype  \n",
      "---  ------       --------------  -----  \n",
      " 0   PassengerId  1309 non-null   int64  \n",
      " 1   Survived     891 non-null    float64\n",
      " 2   Pclass       1309 non-null   int64  \n",
      " 3   Sex          1309 non-null   object \n",
      " 4   Age          1046 non-null   float64\n",
      " 5   SibSp        1309 non-null   int64  \n",
      " 6   Parch        1309 non-null   int64  \n",
      " 7   Embarked     1307 non-null   object \n",
      "dtypes: float64(2), int64(4), object(2)\n",
      "memory usage: 81.9+ KB\n"
     ]
    }
   ],
   "source": [
    "titanic_df.info()"
   ]
  },
  {
   "cell_type": "code",
   "execution_count": 155,
   "metadata": {},
   "outputs": [
    {
     "data": {
      "text/plain": [
       "PassengerId    0\n",
       "Survived       0\n",
       "Pclass         0\n",
       "Sex            0\n",
       "Age            0\n",
       "SibSp          0\n",
       "Parch          0\n",
       "Embarked       0\n",
       "dtype: int64"
      ]
     },
     "execution_count": 155,
     "metadata": {},
     "output_type": "execute_result"
    }
   ],
   "source": [
    "#on va remplire les valeurs manquantes\n",
    "titanic_df['Survived'].fillna(titanic_df[\"Survived\"].mode().iloc[0], inplace=True)\n",
    "titanic_df['Age'].fillna(titanic_df[\"Age\"].mode().iloc[0], inplace=True)\n",
    "titanic_df['Embarked'].fillna(titanic_df[\"Embarked\"].mode().iloc[0], inplace=True)\n",
    "titanic_df.isnull().sum()\n",
    "\n"
   ]
  },
  {
   "cell_type": "code",
   "execution_count": 189,
   "metadata": {},
   "outputs": [
    {
     "data": {
      "text/html": [
       "<div>\n",
       "<style scoped>\n",
       "    .dataframe tbody tr th:only-of-type {\n",
       "        vertical-align: middle;\n",
       "    }\n",
       "\n",
       "    .dataframe tbody tr th {\n",
       "        vertical-align: top;\n",
       "    }\n",
       "\n",
       "    .dataframe thead th {\n",
       "        text-align: right;\n",
       "    }\n",
       "</style>\n",
       "<table border=\"1\" class=\"dataframe\">\n",
       "  <thead>\n",
       "    <tr style=\"text-align: right;\">\n",
       "      <th></th>\n",
       "      <th>PassengerId</th>\n",
       "      <th>Survived</th>\n",
       "      <th>Pclass</th>\n",
       "      <th>Sex</th>\n",
       "      <th>Age</th>\n",
       "      <th>SibSp</th>\n",
       "      <th>Parch</th>\n",
       "      <th>Embarked</th>\n",
       "      <th>sex</th>\n",
       "    </tr>\n",
       "  </thead>\n",
       "  <tbody>\n",
       "    <tr>\n",
       "      <th>0</th>\n",
       "      <td>1</td>\n",
       "      <td>0.0</td>\n",
       "      <td>3</td>\n",
       "      <td>1</td>\n",
       "      <td>22.0</td>\n",
       "      <td>1</td>\n",
       "      <td>0</td>\n",
       "      <td>0</td>\n",
       "      <td>1</td>\n",
       "    </tr>\n",
       "    <tr>\n",
       "      <th>1</th>\n",
       "      <td>2</td>\n",
       "      <td>1.0</td>\n",
       "      <td>1</td>\n",
       "      <td>0</td>\n",
       "      <td>38.0</td>\n",
       "      <td>1</td>\n",
       "      <td>0</td>\n",
       "      <td>1</td>\n",
       "      <td>0</td>\n",
       "    </tr>\n",
       "    <tr>\n",
       "      <th>2</th>\n",
       "      <td>3</td>\n",
       "      <td>1.0</td>\n",
       "      <td>3</td>\n",
       "      <td>0</td>\n",
       "      <td>26.0</td>\n",
       "      <td>0</td>\n",
       "      <td>0</td>\n",
       "      <td>0</td>\n",
       "      <td>0</td>\n",
       "    </tr>\n",
       "    <tr>\n",
       "      <th>3</th>\n",
       "      <td>4</td>\n",
       "      <td>1.0</td>\n",
       "      <td>1</td>\n",
       "      <td>0</td>\n",
       "      <td>35.0</td>\n",
       "      <td>1</td>\n",
       "      <td>0</td>\n",
       "      <td>0</td>\n",
       "      <td>0</td>\n",
       "    </tr>\n",
       "    <tr>\n",
       "      <th>4</th>\n",
       "      <td>5</td>\n",
       "      <td>0.0</td>\n",
       "      <td>3</td>\n",
       "      <td>1</td>\n",
       "      <td>35.0</td>\n",
       "      <td>0</td>\n",
       "      <td>0</td>\n",
       "      <td>0</td>\n",
       "      <td>1</td>\n",
       "    </tr>\n",
       "    <tr>\n",
       "      <th>...</th>\n",
       "      <td>...</td>\n",
       "      <td>...</td>\n",
       "      <td>...</td>\n",
       "      <td>...</td>\n",
       "      <td>...</td>\n",
       "      <td>...</td>\n",
       "      <td>...</td>\n",
       "      <td>...</td>\n",
       "      <td>...</td>\n",
       "    </tr>\n",
       "    <tr>\n",
       "      <th>1304</th>\n",
       "      <td>1305</td>\n",
       "      <td>0.0</td>\n",
       "      <td>3</td>\n",
       "      <td>1</td>\n",
       "      <td>24.0</td>\n",
       "      <td>0</td>\n",
       "      <td>0</td>\n",
       "      <td>0</td>\n",
       "      <td>1</td>\n",
       "    </tr>\n",
       "    <tr>\n",
       "      <th>1305</th>\n",
       "      <td>1306</td>\n",
       "      <td>0.0</td>\n",
       "      <td>1</td>\n",
       "      <td>0</td>\n",
       "      <td>39.0</td>\n",
       "      <td>0</td>\n",
       "      <td>0</td>\n",
       "      <td>1</td>\n",
       "      <td>0</td>\n",
       "    </tr>\n",
       "    <tr>\n",
       "      <th>1306</th>\n",
       "      <td>1307</td>\n",
       "      <td>0.0</td>\n",
       "      <td>3</td>\n",
       "      <td>1</td>\n",
       "      <td>38.5</td>\n",
       "      <td>0</td>\n",
       "      <td>0</td>\n",
       "      <td>0</td>\n",
       "      <td>1</td>\n",
       "    </tr>\n",
       "    <tr>\n",
       "      <th>1307</th>\n",
       "      <td>1308</td>\n",
       "      <td>0.0</td>\n",
       "      <td>3</td>\n",
       "      <td>1</td>\n",
       "      <td>24.0</td>\n",
       "      <td>0</td>\n",
       "      <td>0</td>\n",
       "      <td>0</td>\n",
       "      <td>1</td>\n",
       "    </tr>\n",
       "    <tr>\n",
       "      <th>1308</th>\n",
       "      <td>1309</td>\n",
       "      <td>0.0</td>\n",
       "      <td>3</td>\n",
       "      <td>1</td>\n",
       "      <td>24.0</td>\n",
       "      <td>1</td>\n",
       "      <td>1</td>\n",
       "      <td>1</td>\n",
       "      <td>1</td>\n",
       "    </tr>\n",
       "  </tbody>\n",
       "</table>\n",
       "<p>1309 rows × 9 columns</p>\n",
       "</div>"
      ],
      "text/plain": [
       "      PassengerId  Survived  Pclass  Sex   Age  SibSp  Parch  Embarked  sex\n",
       "0               1       0.0       3    1  22.0      1      0         0    1\n",
       "1               2       1.0       1    0  38.0      1      0         1    0\n",
       "2               3       1.0       3    0  26.0      0      0         0    0\n",
       "3               4       1.0       1    0  35.0      1      0         0    0\n",
       "4               5       0.0       3    1  35.0      0      0         0    1\n",
       "...           ...       ...     ...  ...   ...    ...    ...       ...  ...\n",
       "1304         1305       0.0       3    1  24.0      0      0         0    1\n",
       "1305         1306       0.0       1    0  39.0      0      0         1    0\n",
       "1306         1307       0.0       3    1  38.5      0      0         0    1\n",
       "1307         1308       0.0       3    1  24.0      0      0         0    1\n",
       "1308         1309       0.0       3    1  24.0      1      1         1    1\n",
       "\n",
       "[1309 rows x 9 columns]"
      ]
     },
     "execution_count": 189,
     "metadata": {},
     "output_type": "execute_result"
    }
   ],
   "source": [
    "titanic_df['Sex']=titanic_df['Sex'].replace(['female','male'],[0,1])\n",
    "titanic_df[\"Embarked\"]=titanic_df[\"Embarked\"].replace(['S', 'C', 'Q'],[0,1,2])\n",
    "titanic_df\n"
   ]
  },
  {
   "cell_type": "markdown",
   "metadata": {},
   "source": [
    "<h2> Description des données </h2>"
   ]
  },
  {
   "cell_type": "markdown",
   "metadata": {},
   "source": [
    "Afficher les histogrammes de chacune des propriétés, pour l'ensemble du DataFrame, puis pour les survivants uniquements et enfin pour les non-survivants. Notez-vous des différences évidentes ? Sur quelles variables ?\n",
    "Afficher la matrice de corrélation de vos données."
   ]
  },
  {
   "cell_type": "code",
   "execution_count": 193,
   "metadata": {},
   "outputs": [
    {
     "data": {
      "text/plain": [
       "<AxesSubplot:ylabel='Survived'>"
      ]
     },
     "execution_count": 193,
     "metadata": {},
     "output_type": "execute_result"
    },
    {
     "data": {
      "image/png": "[encoded data removed]",
      "text/plain": [
       "<Figure size 432x288 with 1 Axes>"
      ]
     },
     "metadata": {},
     "output_type": "display_data"
    }
   ],
   "source": [
    "import matplotlib.pyplot as plt \n",
    "titanic_df['Survived'].value_counts().plot.pie(explode = [0, 0.1], \n",
    "                                               autopct = '%1.1f%%', \n",
    "                                               shadow = True,\n",
    "                                               colors = ['grey', 'green'])"
   ]
  },
  {
   "cell_type": "code",
   "execution_count": 197,
   "metadata": {},
   "outputs": [
    {
     "data": {
      "text/plain": [
       "array([<AxesSubplot:title={'center':'0'}>,\n",
       "       <AxesSubplot:title={'center':'1'}>], dtype=object)"
      ]
     },
     "execution_count": 197,
     "metadata": {},
     "output_type": "execute_result"
    },
    {
     "data": {
      "image/png": "[encoded data removed]",
      "text/plain": [
       "<Figure size 432x288 with 2 Axes>"
      ]
     },
     "metadata": {
      "needs_background": "light"
     },
     "output_type": "display_data"
    }
   ],
   "source": [
    "titanic_df.hist('Survived',\"Sex\")"
   ]
  },
  {
   "cell_type": "markdown",
   "metadata": {},
   "source": [
    "<h2> Un premier modèle médiocre </h2>"
   ]
  },
  {
   "cell_type": "markdown",
   "metadata": {},
   "source": [
    "<p>On remarque assez vite que le sexe du passager semble être un bon indicateur : dans le jeu de données d'entraînement, environ 75% des survivants sont des femmes. Si on ne prédit que sur ce critère, il semblerait que l'on ne se trompe pas dans la majorité des cas.</p>\n",
    "Estimer empiriquement à partir du jeu de données d'entrainement $P(F|S)$, $P(F)$, $P(S)$ où $S$ est l'évènement \"le passager survit\", $F$ est l'évènement \"Le passager est une femme\". En déduire $P(S|F)$.\n"
   ]
  },
  {
   "cell_type": "code",
   "execution_count": 207,
   "metadata": {},
   "outputs": [
    {
     "data": {
      "text/plain": [
       "0.31871345029239767"
      ]
     },
     "execution_count": 207,
     "metadata": {},
     "output_type": "execute_result"
    }
   ],
   "source": [
    "P_f=titanic_df[\"Sex\"].mean()\n",
    "p_s=titanic_df[\"Survived\"].mean()\n",
    "p_cod=titanic_df.loc[titanic_df[\"Survived\"]==1][\"Sex\"].mean()\n",
    "p_cod"
   ]
  },
  {
   "cell_type": "markdown",
   "metadata": {},
   "source": [
    "En déduire une prédiction pour le jeu de données test, basée sur ce seul critère. Ranger cette prédiction de survie dans un DataFrame qui ne possède que deux champs : \"PassengerId\" et \"Survived\"."
   ]
  },
  {
   "cell_type": "code",
   "execution_count": 209,
   "metadata": {},
   "outputs": [
    {
     "data": {
      "image/png": "[encoded data removed]",
      "text/plain": [
       "<Figure size 432x288 with 9 Axes>"
      ]
     },
     "metadata": {
      "needs_background": "light"
     },
     "output_type": "display_data"
    }
   ],
   "source": [
    "titanic_df[titanic_df[\"Survived\"]==1].hist();"
   ]
  },
  {
   "cell_type": "code",
   "execution_count": 211,
   "metadata": {},
   "outputs": [
    {
     "data": {
      "text/plain": [
       "0.5"
      ]
     },
     "execution_count": 211,
     "metadata": {},
     "output_type": "execute_result"
    }
   ],
   "source": [
    "titanic_df.loc[titanic_df[\"Sex\"]==0][\"Survived\"].mean()"
   ]
  },
  {
   "cell_type": "markdown",
   "metadata": {},
   "source": [
    "Sauvegardez ce DataFrame dans un Fichier .csv avec le format attendu dans le Challenge, et soumettez-le. Quel score obtenez-vous ? Est-ce conforme à vos attentes ?"
   ]
  },
  {
   "cell_type": "code",
   "execution_count": null,
   "metadata": {},
   "outputs": [],
   "source": []
  },
  {
   "cell_type": "markdown",
   "metadata": {},
   "source": [
    "<h2> Utilisation de méthodes de classification </h2>"
   ]
  },
  {
   "cell_type": "markdown",
   "metadata": {},
   "source": [
    "<p>Les méthodes de classification consistent en la construction de fonction (aussi appelés modèles) qui ont vocation à prendre en entrée des données multivariées. Il existe une zoologie importante de telles méthodes, dont l'efficacité dépend bien évidemment de la nature du problème à traiter.</p>\n",
    "La bibliothèque scikit-learn propose une grand nombre de modèles pour la classification :\n",
    "\n",
    "<p><center><a>https://scikit-learn.org/stable/auto_examples/classification/plot_classifier_comparison.html</p></center></a>\n",
    "\n",
    "\n",
    "\n",
    "\n",
    "\n"
   ]
  },
  {
   "cell_type": "markdown",
   "metadata": {
    "execution": {
     "iopub.execute_input": "2021-11-18T22:08:38.06678Z",
     "iopub.status.busy": "2021-11-18T22:08:38.066105Z",
     "iopub.status.idle": "2021-11-18T22:08:38.078839Z",
     "shell.execute_reply": "2021-11-18T22:08:38.077559Z",
     "shell.execute_reply.started": "2021-11-18T22:08:38.066701Z"
    }
   },
   "source": [
    "<p>Testons le modèles des plus proches voisins. Le principe est assez simple. Considérons un jeu de données $(X_k,y_k)_{k=1..M}$ où $X_k \\in \\mathbb{R}^N$ sont les variables explicatives, et $y_k$ appartient à un ensemble dénombrable fini indiquant la catégorie à laquelle appartient $X_k$ (par exemple $\\{\"survivant\",\"mort\"\\}$). Pour une donnée à classifier, disons $X$, le modèle détermine les $k$ plus proches voisins de $X$ et détermine quelle catégorie est en majorité parmi ces voisins. Cette catégorie est alors utilisée comme prédiction. </p>\n",
    "\n",
    "<p>La page suivante fournit plus d'informations techniques sur cette méthode :</p>\n",
    "\n",
    "<p><center><a>https://scikit-learn.org/stable/modules/neighbors.html#nearest-neighbors-classification</a></center></p>\n",
    "\n"
   ]
  },
  {
   "cell_type": "markdown",
   "metadata": {},
   "source": [
    "Sélectionner un certain nombre de propriétés de votre DataFrame qui vous serviront pour effectuer vos prédictions, et centrer/renormaliser ces données. Mettre en oeuvre la méthodes des k plus proches voisins pour prédire la survie des passagers dans les données de test, soumettez votre score, est-il meilleur que le premier ?"
   ]
  },
  {
   "cell_type": "code",
   "execution_count": null,
   "metadata": {},
   "outputs": [],
   "source": []
  },
  {
   "cell_type": "markdown",
   "metadata": {},
   "source": [
    "Testez d'autres modèles de classification : SVM, arbres de décision... parvenez-vous à améliorer votre score ?"
   ]
  },
  {
   "cell_type": "markdown",
   "metadata": {},
   "source": []
  }
 ],
 "metadata": {
  "kernelspec": {
   "display_name": "Python 3",
   "language": "python",
   "name": "python3"
  },
  "language_info": {
   "codemirror_mode": {
    "name": "ipython",
    "version": 3
   },
   "file_extension": ".py",
   "mimetype": "text/x-python",
   "name": "python",
   "nbconvert_exporter": "python",
   "pygments_lexer": "ipython3",
   "version": "3.8.8"
  }
 },
 "nbformat": 4,
 "nbformat_minor": 4
}
